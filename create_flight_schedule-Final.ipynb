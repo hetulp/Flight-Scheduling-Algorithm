{
 "cells": [
  {
   "cell_type": "markdown",
   "metadata": {},
   "source": [
    "Importing the panda and numpy libraries"
   ]
  },
  {
   "cell_type": "code",
   "execution_count": 1,
   "metadata": {
    "collapsed": true
   },
   "outputs": [],
   "source": [
    "import numpy as np\n",
    "import pandas as pd"
   ]
  },
  {
   "cell_type": "markdown",
   "metadata": {},
   "source": [
    "Creating the list of flight duration between different airports and gates. Also creating the directory for minimum ground time at each airport gate"
   ]
  },
  {
   "cell_type": "code",
   "execution_count": 2,
   "metadata": {
    "collapsed": true
   },
   "outputs": [],
   "source": [
    "flight_time =[['AUS1','DAL1',50],['AUS1','DAL2',50],['DAL1','AUS1',50],['DAL2','AUS1',50],['AUS1','HOU1',45],['AUS1','HOU2',45],['AUS1','HOU3',45],['HOU1','AUS1',45],['HOU2','AUS1',45],['HOU3','AUS1',45],['DAL1','HOU1',65],['DAL1','HOU2',65],['DAL1','HOU3',65],['DAL2','HOU1',65],['DAL2','HOU2',65],['DAL2','HOU3',65],['HOU1','DAL1',65],['HOU1','DAL2',65],['HOU2','DAL1',65],['HOU2','DAL2',65],['HOU3','DAL1',65],['HOU3','DAL2',65]]\n",
    "ground_time = {'AUS1':25, 'DAL1':30,'DAL2':30, 'HOU1':35,'HOU2':35,'HOU3':35}\n",
    "gates = ['AUS1','DAL1','DAL2','HOU1','HOU2','HOU3']"
   ]
  },
  {
   "cell_type": "markdown",
   "metadata": {},
   "source": [
    "creating function to convert the minutes from midnight to military time"
   ]
  },
  {
   "cell_type": "code",
   "execution_count": 3,
   "metadata": {
    "collapsed": true
   },
   "outputs": [],
   "source": [
    "def military_time(minutes):\n",
    "    hr = minutes // 60\n",
    "    minute = minutes % 60\n",
    "    time = str(hr).zfill(2) + str(minute).zfill(2)\n",
    "    return(time)"
   ]
  },
  {
   "cell_type": "markdown",
   "metadata": {},
   "source": [
    "Assigning the initial flights"
   ]
  },
  {
   "cell_type": "code",
   "execution_count": 4,
   "metadata": {
    "collapsed": true
   },
   "outputs": [],
   "source": [
    "flight_schedule = [['T1','HOU1','AUS1',360,360,360],\n",
    "                   ['T2','HOU2','DAL1',360,360,360],\n",
    "['T3','HOU3','DAL2',360,360,360],\n",
    "['T4','AUS1','HOU1',360,360,360],\n",
    "['T5','DAL1','HOU2',360,360,360],\n",
    "['T6','DAL2','HOU3',360,360,360]]"
   ]
  },
  {
   "cell_type": "markdown",
   "metadata": {},
   "source": [
    "creating the pandas data frame to store the schedule of flights"
   ]
  },
  {
   "cell_type": "code",
   "execution_count": 5,
   "metadata": {
    "collapsed": true
   },
   "outputs": [],
   "source": [
    "d2={'flight':None,'d_a':None,'a_a':None,'d_t':None,'a_t':None,'n_dt':None}\n",
    "index2=np.arange(0,70,1)\n",
    "ms= pd.DataFrame(d2,index2)\n",
    "ms.to_string()\n",
    "count3=6\n",
    "for i in range(0,6):\n",
    "    ms.loc[i,:]=flight_schedule[i]\n",
    "freq = {'AUS1':1,'DAL1':1,'DAL2':1,'HOU1':1,'HOU2':1,'HOU3':1}\n",
    "avaibility_matrix = pd.DataFrame('0',index=range(360,1501),columns=['AUS1','DAL1','DAL2','HOU1','HOU2','HOU3'])"
   ]
  },
  {
   "cell_type": "markdown",
   "metadata": {},
   "source": [
    "creating panda dataframe to check the gate avaibility based on initial flight schedule using python list. The dataframe  has minutes from midnight as a index and airport gates as a column."
   ]
  },
  {
   "cell_type": "markdown",
   "metadata": {},
   "source": [
    "Loop to schedule flight based on avaibility of gate for next arrival time at that gate. "
   ]
  },
  {
   "cell_type": "code",
   "execution_count": 6,
   "metadata": {
    "collapsed": true
   },
   "outputs": [],
   "source": [
    "try:\n",
    "    signal = 'green'\n",
    "    for i in range(1,14):\n",
    "            if signal == 'green':\n",
    "                flight_schedule.sort(key = lambda x:x[5])\n",
    "                flight_code = 'green'\n",
    "                for flight in flight_schedule:\n",
    "                    if flight_code == 'green':\n",
    "                        code = 'green'\n",
    "                        while code == 'green':\n",
    "                            temp_dtime = flight[5]\n",
    "                            dept_city = flight[2]\n",
    "                            gate_req = []\n",
    "                            for f_time in flight_time:\n",
    "                                loc = flight_time.index(f_time)\n",
    "                                if flight_time[loc][0] == dept_city:\n",
    "                                        fly_time = flight_time[loc][2]\n",
    "                                        x = flight_time[loc][1]\n",
    "                                        arrival_time = temp_dtime + fly_time\n",
    "                                        ndept_time = arrival_time + ground_time[x]\n",
    "                                        frequency = freq[x]\n",
    "                                        gate_req.append([x,arrival_time,ndept_time,fly_time,frequency])\n",
    "                            gate_req.sort(key = lambda x:(x[2],x[4]))\n",
    "                            count = 1\n",
    "\n",
    "                            for i in gate_req:\n",
    "                                flag=0\n",
    "                                a = i[1]\n",
    "                                b = i[2]\n",
    "                                c = i[0]\n",
    "                                d = i[3]\n",
    "                                if a > 1320:\n",
    "                                            code = 'red'\n",
    "                                            flight_code = 'red'\n",
    "                                            signal = 'red'\n",
    "                                            break\n",
    "                                else:\n",
    "                                    for q in range(a,b):\n",
    "                                        if avaibility_matrix.loc[q,c] != '0':\n",
    "                                            flag=1\n",
    "                                            break\n",
    "                                    if flag==1:\n",
    "                                        if len(gate_req) == count:\n",
    "                                            flight[5] += 1\n",
    "                                            break\n",
    "                                        else:\n",
    "                                            count += 1\n",
    "                                            continue\n",
    "                                    loc1 = flight_schedule.index(flight)\n",
    "                                    tail = flight_schedule[loc1][0]\n",
    "                                    flight_schedule[loc1][1] = dept_city\n",
    "                                    flight_schedule[loc1][2] = c\n",
    "                                    flight_schedule[loc1][3] = a - d\n",
    "                                    flight_schedule[loc1][4] = a\n",
    "                                    flight_schedule[loc1][5] = b\n",
    "                                    freq[c] += 1\n",
    "                                    if a <= 1320:\n",
    "                                        ms.loc[count3,:]=flight_schedule[loc1]\n",
    "                                        ms=ms.dropna()\n",
    "                                        for  index, row in avaibility_matrix.iterrows():        \n",
    "                                            for index1, row1 in ms.iterrows():\n",
    "                                                        if int(index) >= int(row1['flight']) and int(index) <= int(row1['n_dt']):\n",
    "                                                            avaibility_matrix.loc[index,row1['d_a']] = row1['a_a']\n",
    "                                    else:\n",
    "                                        signal = 'red'\n",
    "                                        for index,row in avaibility_matrix.iterrows():\n",
    "                                            if index > a:\n",
    "                                                avaibility_matrix.loc[index,dept_city] = tail\n",
    "\n",
    "                                    count3=count3+1\n",
    "                                    code = 'red'\n",
    "                                    break\n",
    "\n",
    "except:\n",
    "    print('day is over')"
   ]
  },
  {
   "cell_type": "markdown",
   "metadata": {},
   "source": [
    "Drop any null columns from ms dataframe"
   ]
  },
  {
   "cell_type": "code",
   "execution_count": 7,
   "metadata": {
    "collapsed": true
   },
   "outputs": [],
   "source": [
    "ms.drop(ms.index[:6], inplace=True)"
   ]
  },
  {
   "cell_type": "code",
   "execution_count": 8,
   "metadata": {
    "collapsed": true
   },
   "outputs": [],
   "source": [
    "ms.to_csv('gate_schedule.csv', index=False)"
   ]
  },
  {
   "cell_type": "markdown",
   "metadata": {},
   "source": [
    "convert the columns to display airport name instead of gate name"
   ]
  },
  {
   "cell_type": "code",
   "execution_count": 9,
   "metadata": {
    "collapsed": true
   },
   "outputs": [],
   "source": [
    "departure_airport = ms.a_t.str[:3]\n",
    "arrival_airport = ms.d_a.str[:3]\n",
    "ms['origin'] = departure_airport\n",
    "ms['destination'] = arrival_airport"
   ]
  },
  {
   "cell_type": "markdown",
   "metadata": {},
   "source": [
    "dropping the gate name columns and unnecessary column to prepare the data frame for final output"
   ]
  },
  {
   "cell_type": "code",
   "execution_count": 10,
   "metadata": {
    "collapsed": true
   },
   "outputs": [],
   "source": [
    "ms.drop('a_t',axis=1,inplace = True)\n",
    "ms.drop('d_a',axis=1,inplace = True)\n",
    "ms.drop('n_dt',axis=1,inplace = True)"
   ]
  },
  {
   "cell_type": "markdown",
   "metadata": {},
   "source": [
    "rearranging the columns for final output"
   ]
  },
  {
   "cell_type": "code",
   "execution_count": 11,
   "metadata": {
    "collapsed": true
   },
   "outputs": [],
   "source": [
    "ms = ms[['a_a','origin', 'destination', 'd_t', 'flight']]"
   ]
  },
  {
   "cell_type": "markdown",
   "metadata": {},
   "source": [
    "renaming the columns as per output file requirement"
   ]
  },
  {
   "cell_type": "code",
   "execution_count": 12,
   "metadata": {
    "collapsed": true
   },
   "outputs": [],
   "source": [
    "ms.columns = ['tail_number','origin', 'destination', 'departure_time', 'arrival_time']"
   ]
  },
  {
   "cell_type": "markdown",
   "metadata": {},
   "source": [
    "converting the time from minutes to midnight to military time "
   ]
  },
  {
   "cell_type": "code",
   "execution_count": 13,
   "metadata": {
    "collapsed": true
   },
   "outputs": [],
   "source": [
    "for index, row in ms.iterrows():\n",
    "    x1=military_time(row['departure_time'])\n",
    "    x2= military_time(row['arrival_time'])\n",
    "    \n",
    "    ms.loc[index,'departure_time']=x1\n",
    "    ms.loc[index,'arrival_time']=x2\n"
   ]
  },
  {
   "cell_type": "markdown",
   "metadata": {},
   "source": [
    "saving the final output in csv file"
   ]
  },
  {
   "cell_type": "code",
   "execution_count": 14,
   "metadata": {
    "collapsed": true
   },
   "outputs": [],
   "source": [
    "ms.to_string\n",
    "final_schedule = ms.sort_values(['tail_number','departure_time'])\n",
    "final_schedule.to_csv('flight_schedule.csv', index=False)"
   ]
  }
 ],
 "metadata": {
  "kernelspec": {
   "display_name": "Python 3",
   "language": "python",
   "name": "python3"
  },
  "language_info": {
   "codemirror_mode": {
    "name": "ipython",
    "version": 3
   },
   "file_extension": ".py",
   "mimetype": "text/x-python",
   "name": "python",
   "nbconvert_exporter": "python",
   "pygments_lexer": "ipython3",
   "version": "3.6.1"
  }
 },
 "nbformat": 4,
 "nbformat_minor": 2
}
